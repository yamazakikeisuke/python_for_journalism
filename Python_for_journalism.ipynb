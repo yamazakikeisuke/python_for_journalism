{
  "nbformat": 4,
  "nbformat_minor": 0,
  "metadata": {
    "colab": {
      "name": "Python_for_journalism.ipynb",
      "provenance": [],
      "mount_file_id": "1cIWJrH2irIzjoXcsCxvHyzM5xrAY0LzG",
      "authorship_tag": "ABX9TyNThP6DxexHOjF6SxNVP0fj",
      "include_colab_link": true
    },
    "kernelspec": {
      "name": "python3",
      "display_name": "Python 3"
    },
    "language_info": {
      "name": "python"
    },
    "accelerator": "GPU"
  },
  "cells": [
    {
      "cell_type": "markdown",
      "metadata": {
        "id": "view-in-github",
        "colab_type": "text"
      },
      "source": [
        "<a href=\"https://colab.research.google.com/github/yamazakikeisuke/python_for_journalism/blob/main/Python_for_journalism.ipynb\" target=\"_parent\"><img src=\"https://colab.research.google.com/assets/colab-badge.svg\" alt=\"Open In Colab\"/></a>"
      ]
    },
    {
      "cell_type": "markdown",
      "source": [
        "# **Python for journalism用コード**\n",
        "\n",
        "> 　膨大なデータから新たな知見や視点を発見するデータジャーナリズムは、近年、メディア業界で注目されている新たな手法の一つとなった。国内のメディア企業がこのデータ報道に取り組んでおり、そういったプロジェクトへの着手を望む記者も多いと聞く。\n",
        "\n",
        ">　そんな中で記者に前に立ちはだかるのが「プログラミング」という高い壁。PythonやRといった言語が分析には人気で、Rについては「R for Journalism」という英語の教材（ウェブサイト）があるが、Pythonについては見当たらず、「Pythonを勉強したいが記者向けの教材がない」、「プログラムのテキストを見ているだけでは続かない」という声をよく耳にする。\n",
        "\n",
        ">　本稿では、Pythonを扱いデータを分析する方法を紹介したテキストのコード部分を抜粋した。自身のGroogle Colabにコピーしてコードを実行してみたり、自身がもつ他のデータの分析に応用するなどの活用してほしい。\n",
        "\n"
      ],
      "metadata": {
        "id": "alLs5V3t4U0i"
      }
    },
    {
      "cell_type": "markdown",
      "source": [
        "**１章．システムのバージョン確認**"
      ],
      "metadata": {
        "id": "1EW0fQ_H4Jkh"
      }
    },
    {
      "cell_type": "code",
      "execution_count": null,
      "metadata": {
        "colab": {
          "base_uri": "https://localhost:8080/"
        },
        "id": "mSrmvcj4WQVK",
        "outputId": "8127a0b5-36be-4cd1-d514-3e2a6aeca419"
      },
      "outputs": [
        {
          "output_type": "stream",
          "name": "stdout",
          "text": [
            "3.7.12 (default, Sep 10 2021, 00:21:48) \n",
            "[GCC 7.5.0]\n"
          ]
        }
      ],
      "source": [
        "import sys\n",
        "print(sys.version)"
      ]
    },
    {
      "cell_type": "markdown",
      "source": [
        "**２章．ファイルを読み込む**"
      ],
      "metadata": {
        "id": "Om26XnL34tBr"
      }
    },
    {
      "cell_type": "code",
      "source": [
        "#テスト用のファイルをダウンロード\n",
        "!wget  \"https://drive.google.com/uc?export=download&id=1F-g17E2OfPweROelRgbCuNuuwNOB3GvT\" -O police_data_201803.csv"
      ],
      "metadata": {
        "id": "FykX9QVUwaXj"
      },
      "execution_count": null,
      "outputs": []
    },
    {
      "cell_type": "code",
      "source": [
        "#ファイルを読み込んでみる\n",
        "import pandas as pd\n",
        "df = pd.read_csv('police_data_201803.csv')  "
      ],
      "metadata": {
        "id": "RRvG0yAkaRan"
      },
      "execution_count": null,
      "outputs": []
    },
    {
      "cell_type": "code",
      "source": [
        "#読み込んだファイルの中身を表示して確認\n",
        "df"
      ],
      "metadata": {
        "id": "j_8ye_JkwJla"
      },
      "execution_count": null,
      "outputs": []
    },
    {
      "cell_type": "code",
      "source": [
        "#テスト用のエクセルファイルをダウンロード\n",
        "!wget  \"https://drive.google.com/uc?export=download&id=1UciHm_BXyctWFNqBDnQ8WGfhTdY6w_lm\" -O police_data_201803.xlsx"
      ],
      "metadata": {
        "id": "332a1_1PUvPv"
      },
      "execution_count": null,
      "outputs": []
    },
    {
      "cell_type": "code",
      "source": [
        "import pandas as pd\n",
        "df_excel = pd.read_excel(\"police_data_201803.xlsx\", sheet_name=\"Sheet1\")"
      ],
      "metadata": {
        "id": "ye8s2yCjUjzC"
      },
      "execution_count": null,
      "outputs": []
    },
    {
      "cell_type": "code",
      "source": [
        "df_excel"
      ],
      "metadata": {
        "id": "bNUyHMI5XHdF"
      },
      "execution_count": null,
      "outputs": []
    },
    {
      "cell_type": "markdown",
      "source": [
        "**３章．データを扱う**"
      ],
      "metadata": {
        "id": "Y3h7JT2543Oy"
      }
    },
    {
      "cell_type": "markdown",
      "source": [
        "**３－１．数値データを扱う**"
      ],
      "metadata": {
        "id": "9iwAbzxIPgOF"
      }
    },
    {
      "cell_type": "code",
      "source": [
        "!wget  \"https://drive.google.com/uc?export=download&id=1BEAIDHEgucF4aHAqTeWL0oXy9sWfNuaR\" -O channels_report.csv"
      ],
      "metadata": {
        "id": "h772sIOk4Arq"
      },
      "execution_count": null,
      "outputs": []
    },
    {
      "cell_type": "code",
      "source": [
        "import pandas as pd\n",
        "df = pd.read_csv('channels_report.csv')"
      ],
      "metadata": {
        "id": "wuvoV8gl4Frl"
      },
      "execution_count": null,
      "outputs": []
    },
    {
      "cell_type": "markdown",
      "source": [
        "**① 何行、何列のデータか確認する**"
      ],
      "metadata": {
        "id": "muJMsPQqLKVa"
      }
    },
    {
      "cell_type": "code",
      "source": [
        "#列数，行数の順で表示される\n",
        "df.shape"
      ],
      "metadata": {
        "id": "W37JUaShLKqt"
      },
      "execution_count": null,
      "outputs": []
    },
    {
      "cell_type": "markdown",
      "source": [
        "**② 登録者数（subscriberCount）が多い順に並び替える**"
      ],
      "metadata": {
        "id": "G8YZqXC-Awkc"
      }
    },
    {
      "cell_type": "code",
      "source": [
        "df.sort_values('subscriberCount', ascending=False)"
      ],
      "metadata": {
        "id": "Mm2SCkcOAuzm"
      },
      "execution_count": null,
      "outputs": []
    },
    {
      "cell_type": "markdown",
      "source": [
        "**③ 登録者数の平均、中央値を算出してみる**"
      ],
      "metadata": {
        "id": "3CU8mb0WBARr"
      }
    },
    {
      "cell_type": "code",
      "source": [
        "#平均を求める\n",
        "df[\"subscriberCount\"].mean()"
      ],
      "metadata": {
        "colab": {
          "base_uri": "https://localhost:8080/"
        },
        "id": "qQtXbLDBARqH",
        "outputId": "ae0f6d8b-5bc8-43cd-9aab-0c69cbbf14f7"
      },
      "execution_count": null,
      "outputs": [
        {
          "output_type": "execute_result",
          "data": {
            "text/plain": [
              "3188.2761904761905"
            ]
          },
          "metadata": {},
          "execution_count": 7
        }
      ]
    },
    {
      "cell_type": "code",
      "source": [
        "#中央値を求める\n",
        "df[\"subscriberCount\"].median()"
      ],
      "metadata": {
        "colab": {
          "base_uri": "https://localhost:8080/"
        },
        "id": "zw13OlCRKKui",
        "outputId": "7706d0ce-611a-4292-983b-d733caaeb818"
      },
      "execution_count": null,
      "outputs": [
        {
          "output_type": "execute_result",
          "data": {
            "text/plain": [
              "117.0"
            ]
          },
          "metadata": {},
          "execution_count": 8
        }
      ]
    },
    {
      "cell_type": "markdown",
      "source": [
        "**④ 2021年とそれ以外の年に開設されたチャンネルの登録者数の平均を算出してみる**"
      ],
      "metadata": {
        "id": "l_YAz6FyFCar"
      }
    },
    {
      "cell_type": "code",
      "source": [
        "#２１年のデータに絞る\n",
        "df_2021 = df[df[\"year\"] == 2021]\n",
        "#絞ったデータで平均を求める\n",
        "df_2021[\"subscriberCount\"].mean()"
      ],
      "metadata": {
        "colab": {
          "base_uri": "https://localhost:8080/"
        },
        "id": "QGSecMm4FOns",
        "outputId": "fe9b47ef-3341-4fa8-e895-99be806b0c91"
      },
      "execution_count": null,
      "outputs": [
        {
          "output_type": "execute_result",
          "data": {
            "text/plain": [
              "4626.13698630137"
            ]
          },
          "metadata": {},
          "execution_count": 10
        }
      ]
    },
    {
      "cell_type": "code",
      "source": [
        "#２１年以外のデータに絞る\n",
        "df_not_2021 = df[df[\"year\"] != 2021]\n",
        "#絞ったデータで平均を求める\n",
        "df_not_2021[\"subscriberCount\"].mean()"
      ],
      "metadata": {
        "colab": {
          "base_uri": "https://localhost:8080/"
        },
        "id": "3MRchXKULbSA",
        "outputId": "a12f1be6-a516-4400-88d2-5665a6ffa279"
      },
      "execution_count": null,
      "outputs": [
        {
          "output_type": "execute_result",
          "data": {
            "text/plain": [
              "2754.5413223140495"
            ]
          },
          "metadata": {},
          "execution_count": 11
        }
      ]
    },
    {
      "cell_type": "markdown",
      "source": [
        "**⑤ 政党ごとのチャンネル数を表示**"
      ],
      "metadata": {
        "id": "-venApTfB-bT"
      }
    },
    {
      "cell_type": "code",
      "source": [
        "df[\"party\"].value_counts()"
      ],
      "metadata": {
        "id": "dd-ZlSrsB9eX"
      },
      "execution_count": null,
      "outputs": []
    },
    {
      "cell_type": "markdown",
      "source": [
        "**⑥ 政党ごと(自民、立憲)の登録者数のランキング、平均、合計を表示**"
      ],
      "metadata": {
        "id": "_vatCSxPEohr"
      }
    },
    {
      "cell_type": "code",
      "source": [
        "#自民党・候補者のチャンネル登録者数ランキング\n",
        "df[df[\"party\"] == \"自民\"].sort_values('subscriberCount', ascending=False)"
      ],
      "metadata": {
        "id": "i41JGTQSFjYL"
      },
      "execution_count": null,
      "outputs": []
    },
    {
      "cell_type": "code",
      "source": [
        "#自民党・候補者のチャンネル登録者数の平均\n",
        "df[df[\"party\"] == \"自民\"][\"subscriberCount\"].mean()"
      ],
      "metadata": {
        "id": "I5dde2bTMweq"
      },
      "execution_count": null,
      "outputs": []
    },
    {
      "cell_type": "code",
      "source": [
        "#自民党・候補者のチャンネル登録者数の合計\n",
        "df[df[\"party\"] == \"自民\"][\"subscriberCount\"].sum()"
      ],
      "metadata": {
        "id": "npcupI4_NCat"
      },
      "execution_count": null,
      "outputs": []
    },
    {
      "cell_type": "code",
      "source": [
        "#立憲・候補者のチャンネル登録者数ランキング\n",
        "df[df[\"party\"] == \"立憲\"].sort_values('subscriberCount', ascending=False)"
      ],
      "metadata": {
        "id": "pXovF2cpNd9x"
      },
      "execution_count": null,
      "outputs": []
    },
    {
      "cell_type": "code",
      "source": [
        "#立憲・候補者のチャンネル登録者数の平均\n",
        "df[df[\"party\"] == \"立憲\"][\"subscriberCount\"].mean()"
      ],
      "metadata": {
        "id": "16sZ2bKeNeMX"
      },
      "execution_count": null,
      "outputs": []
    },
    {
      "cell_type": "code",
      "source": [
        "#立憲・候補者のチャンネル登録者数の合計\n",
        "df[df[\"party\"] == \"立憲\"][\"subscriberCount\"].sum()"
      ],
      "metadata": {
        "id": "KqmqDx2kNeUG"
      },
      "execution_count": null,
      "outputs": []
    },
    {
      "cell_type": "markdown",
      "source": [
        "**３－２．テキストデータを扱う**"
      ],
      "metadata": {
        "id": "GXPDY1fsPPn5"
      }
    },
    {
      "cell_type": "code",
      "source": [
        "!wget  \"https://drive.google.com/uc?export=download&id=1F-g17E2OfPweROelRgbCuNuuwNOB3GvT\" -O police_data_201803.csv"
      ],
      "metadata": {
        "id": "Wa7UVJiiTdSn"
      },
      "execution_count": null,
      "outputs": []
    },
    {
      "cell_type": "code",
      "source": [
        "import pandas as pd\n",
        "df = pd.read_csv('police_data_201803.csv')"
      ],
      "metadata": {
        "id": "mRr0Cs67Tdgc"
      },
      "execution_count": 9,
      "outputs": []
    },
    {
      "cell_type": "markdown",
      "source": [
        "**① タイトルに「詐欺」と含まれるデータを抽出する**"
      ],
      "metadata": {
        "id": "WA-VyHUpPtem"
      }
    },
    {
      "cell_type": "code",
      "source": [
        "#タイトルに「詐欺」が絞まれるメールに絞る\n",
        "df_sagi = df[df['配信表題'].str.contains(\"詐欺\")]\n",
        "#表示\n",
        "df_sagi"
      ],
      "metadata": {
        "id": "60jF4c7yQO3V"
      },
      "execution_count": null,
      "outputs": []
    },
    {
      "cell_type": "markdown",
      "source": [
        "**② 品詞ごとに単語をカウントする**"
      ],
      "metadata": {
        "id": "8TeuTDUnP-5v"
      }
    },
    {
      "cell_type": "markdown",
      "source": [
        "**②-1 テキスト分析用ライブラリー「GiNZA」のインストール**"
      ],
      "metadata": {
        "id": "e5Fx8aDA8Jk1"
      }
    },
    {
      "cell_type": "code",
      "source": [
        "#分析用のライブラリーをインストールする\n",
        "#!pip install sudachipy sudachidict_core\n",
        "!pip install -U ginza https://github.com/megagonlabs/ginza/releases/download/latest/ja_ginza_electra-latest-with-model.tar.gz"
      ],
      "metadata": {
        "id": "U9S8nEg00CXD"
      },
      "execution_count": null,
      "outputs": []
    },
    {
      "cell_type": "markdown",
      "source": [
        "※念のため、上部メニューの「ランタイム」＞「ランタイムを再起動」を実行"
      ],
      "metadata": {
        "id": "dHYGXIAn5E4v"
      }
    },
    {
      "cell_type": "markdown",
      "source": [
        "**②-2 テキストを分かち書きしてみる**"
      ],
      "metadata": {
        "id": "cTCaDLsH8Uza"
      }
    },
    {
      "cell_type": "code",
      "source": [
        "import spacy\n",
        "nlp = spacy.load('ja_ginza_electra')\n",
        "#文章を分かち書きするために解析\n",
        "doc = nlp('データジャーナリズムは、大規模データを解析し新たな解釈を作り出す調査取材の手法です。')\n",
        "\n",
        "#分析結果を表示\n",
        "for sent in doc.sents:\n",
        "    for token in sent:\n",
        "        #token.orth_：元の単語, token.lemma_：基本形, token.pos_：品詞（英語）, token.tag_：品詞（日本語）\n",
        "        print(token.orth_, token.lemma_, token.pos_, token.tag_)\n",
        "    print('EOS')"
      ],
      "metadata": {
        "id": "da8H-mvMQOIA"
      },
      "execution_count": null,
      "outputs": []
    },
    {
      "cell_type": "markdown",
      "source": [
        "**②-3 形容詞を数えあげる**"
      ],
      "metadata": {
        "id": "pr4gFsar8ltE"
      }
    },
    {
      "cell_type": "code",
      "source": [
        "import spacy\n",
        "\n",
        "#テキストを分かち書きして、品詞ごとに分類する関数\n",
        "def TextToWakati_ginza(text, nlp):\n",
        "   Arr_ADJ = []\n",
        "   Arr_VERB = []\n",
        "   Arr_NOUN = []\n",
        "   Arr_ADV = []\n",
        "   Arr_PROPN = []\n",
        "   try:\n",
        "      doc = nlp(text)\n",
        "      # 品詞ごとに基本形を抽出する\n",
        "      for sent in doc.sents:\n",
        "         #形容詞（ADJ）、動詞（VERB）、名詞（NOUN）、副詞（ADV）、固有名詞（PROPN）を対象に設定\n",
        "         for token in sent:\n",
        "            if token.pos_ == \"ADJ\":\n",
        "               Arr_ADJ.append(token.lemma_)\n",
        "            elif token.pos_ == \"VERB\":\n",
        "               Arr_VERB.append(token.lemma_)\n",
        "            elif token.pos_ == \"NOUN\":\n",
        "               Arr_NOUN.append(token.lemma_)\n",
        "            elif token.pos_ == \"ADV\":\n",
        "               Arr_ADV.append(token.lemma_)\n",
        "            elif token.pos_ == \"PROPN\":\n",
        "               Arr_PROPN.append(token.lemma_)\n",
        "   #エラーした場合のスキップ処理\n",
        "   except:\n",
        "      print(\"==エラー==\")\n",
        "      print(text)\n",
        "   return Arr_ADJ, Arr_VERB, Arr_NOUN, Arr_ADV, Arr_PROPN\n",
        "\n",
        "#解析の準備\n",
        "nlp = spacy.load('ja_ginza_electra')\n",
        "Arr_ADJ_all = []\n",
        "Arr_VERB_all = []\n",
        "Arr_NOUN_all = []\n",
        "Arr_ADV_all = []\n",
        "Arr_PROPN_all = []\n",
        "\n",
        "#データの読み込み→解析\n",
        "for t in df_sagi[\"配信本文\"]:\n",
        "  Arr_ADJ, Arr_VERB, Arr_NOUN, Arr_ADV, Arr_PROPN = TextToWakati_ginza(t, nlp)\n",
        "  #出力結果を追加していく\n",
        "  Arr_ADJ_all = Arr_ADJ_all + Arr_ADJ\n",
        "  Arr_VERB_all = Arr_VERB_all + Arr_VERB\n",
        "  Arr_NOUN_all = Arr_NOUN_all + Arr_NOUN\n",
        "  Arr_ADV_all = Arr_ADV_all + Arr_ADV\n",
        "  Arr_PROPN_all = Arr_PROPN_all + Arr_PROPN"
      ],
      "metadata": {
        "id": "mMWoRJr28sZS"
      },
      "execution_count": 11,
      "outputs": []
    },
    {
      "cell_type": "code",
      "source": [
        "#多く含まれる形容詞ランキング（トップ１０）を表示\n",
        "import collections\n",
        "#「Arr_ADJ_all」を上記の「Arr_VERB」や「Arr_NOUN」に変えると名詞や動詞のランキングになる\n",
        "c = collections.Counter(Arr_ADJ_all)\n",
        "c.most_common(10)"
      ],
      "metadata": {
        "id": "vIOcbvmfKrv6"
      },
      "execution_count": null,
      "outputs": []
    },
    {
      "cell_type": "markdown",
      "source": [
        "**４章．データを可視化する**"
      ],
      "metadata": {
        "id": "g5PcewjDXGuD"
      }
    },
    {
      "cell_type": "markdown",
      "source": [
        "**４－１． ワードクラウドを作成する**"
      ],
      "metadata": {
        "id": "HzbX2F6MQ_n1"
      }
    },
    {
      "cell_type": "code",
      "source": [
        "#フォントファイルを準備する\n",
        "!apt-get -y install fonts-ipafont-gothic"
      ],
      "metadata": {
        "id": "6zf2Y5kZ6Iy1"
      },
      "execution_count": null,
      "outputs": []
    },
    {
      "cell_type": "code",
      "source": [
        "import pandas as pd\n",
        "import spacy\n",
        "from wordcloud import WordCloud\n",
        "import random\n",
        "\n",
        "#テキストを分かち書きして、分析する単語のみを集める関数\n",
        "def TextToWakati(text, nlp):\n",
        "   res_arr = []\n",
        "   try:\n",
        "      doc = nlp(text)\n",
        "      for sent in doc.sents:\n",
        "         for token in sent:\n",
        "            #形容詞（ADJ）、動詞（VERB）、名詞（NOUN）、副詞（ADV）、固有名詞（PROPN）を対象に設定\n",
        "            if (token.pos_ == \"ADJ\") or (token.pos_ == \"VERB\") or (token.pos_ == \"NOUN\") or (token.pos_ == \"ADV\") or (token.pos_ == \"PROPN\"):\n",
        "               if not token.is_stop:\n",
        "                  res_arr.append(token.lemma_)\n",
        "   except:\n",
        "      print(text)\n",
        "   return res_arr\n",
        "\n",
        "#分析ファイルの読み込み★１\n",
        "df = pd.read_csv('police_data_201803.csv')\n",
        "#詐欺に関するメールに対象を絞る★２\n",
        "df = df[df['配信表題'].str.contains(\"詐欺\")]\n",
        "#それぞれのテキストを分かち書きしていく\n",
        "nlp = spacy.load('ja_ginza_electra')\n",
        "res_arr_all = []\n",
        "#対象は「配信本文」という列★３\n",
        "for t in df[\"配信本文\"]:\n",
        "   wt = TextToWakati(t, nlp)\n",
        "   res_arr_all = res_arr_all + wt\n",
        "\n",
        "random.shuffle(res_arr_all)\n",
        "word_text = \" \".join(res_arr_all)\n",
        "\n",
        "#ワードクラウドを作成する\n",
        "fpath = \"/usr/share/fonts/truetype/fonts-japanese-gothic.ttf\"\n",
        "wordcloud = WordCloud(background_color=\"white\", colormap=\"summer\", font_path=fpath,collocations = False, width=600,height=400,min_font_size=12, prefer_horizontal=1)\n",
        "wordcloud.generate(word_text)\n",
        "#画像を保存 \n",
        "wordcloud.to_file(\"./wordcloud.png\")"
      ],
      "metadata": {
        "colab": {
          "base_uri": "https://localhost:8080/"
        },
        "id": "Oh1-N66lY8iA",
        "outputId": "ce0b0c45-2632-4445-e2c6-b2554dda1977"
      },
      "execution_count": 15,
      "outputs": [
        {
          "output_type": "execute_result",
          "data": {
            "text/plain": [
              "<wordcloud.wordcloud.WordCloud at 0x7f2a7bd98290>"
            ]
          },
          "metadata": {},
          "execution_count": 15
        }
      ]
    },
    {
      "cell_type": "code",
      "source": [
        "#完成した画像を表示する\n",
        "from IPython.display import Image,display_png\n",
        "display_png(Image('wordcloud.png'))"
      ],
      "metadata": {
        "id": "g6N15I4b9De7",
        "colab": {
          "base_uri": "https://localhost:8080/",
          "height": 417
        },
        "outputId": "3c6ce6ad-cf9d-4cc1-ec76-f55cd34d22d1"
      },
      "execution_count": 16,
      "outputs": [
        {
          "output_type": "display_data",
          "data": {
            "image/png": "[encoded data removed]"
          },
          "metadata": {}
        }
      ]
    }
  ]
}
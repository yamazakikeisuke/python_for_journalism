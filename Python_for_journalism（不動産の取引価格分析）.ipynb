{
  "nbformat": 4,
  "nbformat_minor": 0,
  "metadata": {
    "colab": {
      "name": "Python for journalism（不動産の取引価格分析）.ipynb",
      "provenance": [],
      "authorship_tag": "ABX9TyMl+VDMQdSdqmfdJ72SvcdF",
      "include_colab_link": true
    },
    "kernelspec": {
      "name": "python3",
      "display_name": "Python 3"
    },
    "language_info": {
      "name": "python"
    }
  },
  "cells": [
    {
      "cell_type": "markdown",
      "metadata": {
        "id": "view-in-github",
        "colab_type": "text"
      },
      "source": [
        "<a href=\"https://colab.research.google.com/github/yamazakikeisuke/python_for_journalism/blob/main/Python_for_journalism%EF%BC%88%E4%B8%8D%E5%8B%95%E7%94%A3%E3%81%AE%E5%8F%96%E5%BC%95%E4%BE%A1%E6%A0%BC%E5%88%86%E6%9E%90%EF%BC%89.ipynb\" target=\"_parent\"><img src=\"https://colab.research.google.com/assets/colab-badge.svg\" alt=\"Open In Colab\"/></a>"
      ]
    },
    {
      "cell_type": "markdown",
      "source": [
        "# Python for journalism用コード（土地情報編）\n",
        "この１０年間で取引価格が高騰した土地を探してみる。"
      ],
      "metadata": {
        "id": "KUt3pS3XC6zU"
      }
    },
    {
      "cell_type": "markdown",
      "source": [
        "**１．データの読み込み**"
      ],
      "metadata": {
        "id": "ZeL86WBmDpfk"
      }
    },
    {
      "cell_type": "code",
      "execution_count": null,
      "metadata": {
        "id": "ZDhtkzM2C56S"
      },
      "outputs": [],
      "source": [
        "#テスト用のファイルをダウンロード\n",
        "!wget  \"https://drive.google.com/uc?export=download&id=1OP4MFrte4kG-qDlf4Zyzte6_acDeP2cR\" -O 13_Tokyo_20111_20214.csv"
      ]
    },
    {
      "cell_type": "code",
      "source": [
        "#ファイルを読み込んでみる\n",
        "import pandas as pd\n",
        "df = pd.read_csv('./13_Tokyo_20111_20214.csv')"
      ],
      "metadata": {
        "id": "7jH1A3hZD4K4"
      },
      "execution_count": null,
      "outputs": []
    },
    {
      "cell_type": "code",
      "source": [
        "#３ＬＤＫのマンションにデータを絞る\n",
        "df = df[df[\"間取り\"] == \"３ＬＤＫ\"]\n",
        "df = df[df[\"種類\"] == \"中古マンション等\"]"
      ],
      "metadata": {
        "id": "-GVlN08AFDx6"
      },
      "execution_count": null,
      "outputs": []
    },
    {
      "cell_type": "code",
      "source": [
        "#バラバラの住所列をつなげた列を新たに作る\n",
        "df[\"address\"] = df['都道府県名'] + df['市区町村名'] + df['地区名']\n",
        "#取引時点の列から「年」の情報だけを抜き出した列を作る\n",
        "df[\"year\"] = df[\"取引時点\"].str[:4]\n",
        "df[\"year\"] = df[\"year\"].astype(str)\n",
        "#取引時点の列から「四半期」の情報だけを抜き出した列を作る\n",
        "df[\"quater\"] = df[\"取引時点\"].str[5:]"
      ],
      "metadata": {
        "id": "NHBx6atmGtM5"
      },
      "execution_count": null,
      "outputs": []
    },
    {
      "cell_type": "code",
      "source": [
        "#分析で使う列名を設定\n",
        "cols = ['都道府県名', '市区町村名', '地区名', '取引価格（総額）', '間取り', '種類', 'address', 'year']"
      ],
      "metadata": {
        "id": "x6lrxARwK4BT"
      },
      "execution_count": null,
      "outputs": []
    },
    {
      "cell_type": "code",
      "source": [
        "#各年・各地区の取引平均価格を計算\n",
        "df_means = df.groupby(['都道府県名', '市区町村名', '地区名', 'address', '間取り', '種類', 'year'], as_index=False).mean()\n",
        "df_means = df_means[cols]\n",
        "#各年・各地区のデータ数を計算\n",
        "df_size = df.groupby(['都道府県名', '市区町村名', '地区名', 'address', '間取り', '種類', 'year'], as_index=False).size()\n",
        "df_size = df_size[['address', 'year', 'size']]"
      ],
      "metadata": {
        "id": "NvzH4mZiHRqN"
      },
      "execution_count": null,
      "outputs": []
    },
    {
      "cell_type": "code",
      "source": [
        "#平均値とデータ数の計算結果を結合したdf_groupedを作る\n",
        "df_grouped = pd.merge(df_means, df_size,  on=['address', 'year'], how='inner')\n",
        "#各年でサンプル数が５件以上だった行のみを取り出す\n",
        "df_grouped_over_5 = df_grouped[df_grouped['size'] >= 5]"
      ],
      "metadata": {
        "id": "iM2Dxc28LLBe"
      },
      "execution_count": null,
      "outputs": []
    }
  ]
}